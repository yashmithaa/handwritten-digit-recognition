{
 "cells": [
  {
   "cell_type": "code",
   "execution_count": 1,
   "metadata": {},
   "outputs": [],
   "source": [
    "import numpy as np\n",
    "import torch\n",
    "import torchvision\n",
    "import matplotlib.pyplot as plt\n",
    "from time import time\n",
    "from torchvision import datasets, transforms\n",
    "from torch import nn, optim"
   ]
  },
  {
   "cell_type": "code",
   "execution_count": 2,
   "metadata": {},
   "outputs": [],
   "source": [
    "transform = transforms.Compose([transforms.ToTensor(),\n",
    "                              transforms.Normalize((0.5,), (0.5,)),\n",
    "                              ])"
   ]
  },
  {
   "cell_type": "code",
   "execution_count": 3,
   "metadata": {},
   "outputs": [
    {
     "name": "stdout",
     "output_type": "stream",
     "text": [
      "Downloading http://yann.lecun.com/exdb/mnist/train-images-idx3-ubyte.gz\n",
      "Failed to download (trying next):\n",
      "HTTP Error 403: Forbidden\n",
      "\n",
      "Downloading https://ossci-datasets.s3.amazonaws.com/mnist/train-images-idx3-ubyte.gz\n",
      "Downloading https://ossci-datasets.s3.amazonaws.com/mnist/train-images-idx3-ubyte.gz to full_trainset\\MNIST\\raw\\train-images-idx3-ubyte.gz\n"
     ]
    },
    {
     "name": "stderr",
     "output_type": "stream",
     "text": [
      "100%|██████████| 9912422/9912422 [00:17<00:00, 573208.24it/s] \n"
     ]
    },
    {
     "name": "stdout",
     "output_type": "stream",
     "text": [
      "Extracting full_trainset\\MNIST\\raw\\train-images-idx3-ubyte.gz to full_trainset\\MNIST\\raw\n",
      "\n",
      "Downloading http://yann.lecun.com/exdb/mnist/train-labels-idx1-ubyte.gz\n",
      "Failed to download (trying next):\n",
      "HTTP Error 403: Forbidden\n",
      "\n",
      "Downloading https://ossci-datasets.s3.amazonaws.com/mnist/train-labels-idx1-ubyte.gz\n",
      "Downloading https://ossci-datasets.s3.amazonaws.com/mnist/train-labels-idx1-ubyte.gz to full_trainset\\MNIST\\raw\\train-labels-idx1-ubyte.gz\n"
     ]
    },
    {
     "name": "stderr",
     "output_type": "stream",
     "text": [
      "100%|██████████| 28881/28881 [00:00<00:00, 96939.03it/s]\n"
     ]
    },
    {
     "name": "stdout",
     "output_type": "stream",
     "text": [
      "Extracting full_trainset\\MNIST\\raw\\train-labels-idx1-ubyte.gz to full_trainset\\MNIST\\raw\n",
      "\n",
      "Downloading http://yann.lecun.com/exdb/mnist/t10k-images-idx3-ubyte.gz\n",
      "Failed to download (trying next):\n",
      "HTTP Error 403: Forbidden\n",
      "\n",
      "Downloading https://ossci-datasets.s3.amazonaws.com/mnist/t10k-images-idx3-ubyte.gz\n",
      "Downloading https://ossci-datasets.s3.amazonaws.com/mnist/t10k-images-idx3-ubyte.gz to full_trainset\\MNIST\\raw\\t10k-images-idx3-ubyte.gz\n"
     ]
    },
    {
     "name": "stderr",
     "output_type": "stream",
     "text": [
      "100%|██████████| 1648877/1648877 [00:01<00:00, 858131.74it/s]\n"
     ]
    },
    {
     "name": "stdout",
     "output_type": "stream",
     "text": [
      "Extracting full_trainset\\MNIST\\raw\\t10k-images-idx3-ubyte.gz to full_trainset\\MNIST\\raw\n",
      "\n",
      "Downloading http://yann.lecun.com/exdb/mnist/t10k-labels-idx1-ubyte.gz\n",
      "Failed to download (trying next):\n",
      "HTTP Error 403: Forbidden\n",
      "\n",
      "Downloading https://ossci-datasets.s3.amazonaws.com/mnist/t10k-labels-idx1-ubyte.gz\n",
      "Downloading https://ossci-datasets.s3.amazonaws.com/mnist/t10k-labels-idx1-ubyte.gz to full_trainset\\MNIST\\raw\\t10k-labels-idx1-ubyte.gz\n"
     ]
    },
    {
     "name": "stderr",
     "output_type": "stream",
     "text": [
      "100%|██████████| 4542/4542 [00:00<00:00, 1627276.74it/s]\n"
     ]
    },
    {
     "name": "stdout",
     "output_type": "stream",
     "text": [
      "Extracting full_trainset\\MNIST\\raw\\t10k-labels-idx1-ubyte.gz to full_trainset\\MNIST\\raw\n",
      "\n"
     ]
    }
   ],
   "source": [
    "# Load the full MNIST dataset\n",
    "full_trainset = datasets.MNIST('full_trainset', download=True, train=True, transform=transform)\n",
    "\n",
    "# Splitting full_trainset into trainset, valset, and testset\n",
    "train_size = int(0.8 * len(full_trainset))\n",
    "val_size = int(0.1 * len(full_trainset))\n",
    "test_size = len(full_trainset) - (train_size + val_size)\n",
    "\n",
    "trainset, valset, testset = torch.utils.data.random_split(full_trainset, [train_size, val_size, test_size])\n",
    "\n",
    "# Create data loaders for trainset, valset, and testset\n",
    "trainloader = torch.utils.data.DataLoader(trainset, batch_size=64, shuffle=True)\n",
    "valloader = torch.utils.data.DataLoader(valset, batch_size=64, shuffle=False)  \n",
    "testloader = torch.utils.data.DataLoader(testset, batch_size=64, shuffle=False)"
   ]
  },
  {
   "cell_type": "code",
   "execution_count": 4,
   "metadata": {},
   "outputs": [
    {
     "name": "stdout",
     "output_type": "stream",
     "text": [
      "torch.Size([64, 1, 28, 28])\n",
      "torch.Size([64])\n"
     ]
    }
   ],
   "source": [
    "#limited processing - therefore processing in batches\n",
    "dataiter = iter(trainloader)\n",
    "\n",
    "images, labels  = next(dataiter)\n",
    "\n",
    "#printing dimensions of the arrays\n",
    "print(images.shape)\n",
    "print(labels.shape)"
   ]
  },
  {
   "cell_type": "code",
   "execution_count": 5,
   "metadata": {},
   "outputs": [
    {
     "name": "stdout",
     "output_type": "stream",
     "text": [
      "Sequential(\n",
      "  (0): Linear(in_features=784, out_features=128, bias=True)\n",
      "  (1): ReLU()\n",
      "  (2): Linear(in_features=128, out_features=64, bias=True)\n",
      "  (3): ReLU()\n",
      "  (4): Linear(in_features=64, out_features=10, bias=True)\n",
      "  (5): LogSoftmax(dim=1)\n",
      ")\n"
     ]
    }
   ],
   "source": [
    "#Neural network architecture\n",
    "input_size = 784 \n",
    "#why 784? 28*28 is dim of img\n",
    "hidden_sizes = [128, 64] #creating two hidden layer of 128 and 64 neurons each\n",
    "output_size = 10\n",
    "\n",
    "model = nn.Sequential(nn.Linear(input_size, hidden_sizes[0]),\n",
    "                      nn.ReLU(),\n",
    "                      nn.Linear(hidden_sizes[0], hidden_sizes[1]),\n",
    "                      nn.ReLU(),\n",
    "                      nn.Linear(hidden_sizes[1], output_size),\n",
    "                      nn.LogSoftmax(dim=1))\n",
    "print(model)"
   ]
  },
  {
   "cell_type": "code",
   "execution_count": 6,
   "metadata": {},
   "outputs": [
    {
     "name": "stdout",
     "output_type": "stream",
     "text": [
      "Before backward pass: \n",
      " None\n",
      "After backward pass: \n",
      " tensor([[ 0.0004,  0.0004,  0.0004,  ...,  0.0004,  0.0004,  0.0004],\n",
      "        [-0.0002, -0.0002, -0.0002,  ..., -0.0002, -0.0002, -0.0002],\n",
      "        [ 0.0065,  0.0065,  0.0065,  ...,  0.0065,  0.0065,  0.0065],\n",
      "        ...,\n",
      "        [-0.0005, -0.0005, -0.0005,  ..., -0.0005, -0.0005, -0.0005],\n",
      "        [ 0.0024,  0.0024,  0.0024,  ...,  0.0024,  0.0024,  0.0024],\n",
      "        [-0.0002, -0.0002, -0.0002,  ..., -0.0002, -0.0002, -0.0002]])\n"
     ]
    }
   ],
   "source": [
    "#Backward propogation\n",
    "criterion = nn.NLLLoss()\n",
    "images, labels = next(iter(trainloader))\n",
    "images = images.view(images.shape[0], -1)\n",
    "\n",
    "logps = model(images) #log probabilities\n",
    "loss = criterion(logps, labels) #calculates the NLL loss\n",
    "print('Before backward pass: \\n', model[0].weight.grad)\n",
    "loss.backward()\n",
    "print('After backward pass: \\n', model[0].weight.grad)"
   ]
  },
  {
   "cell_type": "code",
   "execution_count": 7,
   "metadata": {},
   "outputs": [
    {
     "name": "stdout",
     "output_type": "stream",
     "text": [
      "Epoch 1/30 - Training loss: 0.7032, Training Accuracy: 0.7999\n",
      "Epoch 1/30 - Validation loss: 0.3428, Validation Accuracy: 0.8960\n",
      "Epoch 2/30 - Training loss: 0.3049, Training Accuracy: 0.9094\n",
      "Epoch 2/30 - Validation loss: 0.2842, Validation Accuracy: 0.9162\n",
      "Epoch 3/30 - Training loss: 0.2488, Training Accuracy: 0.9250\n",
      "Epoch 3/30 - Validation loss: 0.2348, Validation Accuracy: 0.9297\n",
      "Epoch 4/30 - Training loss: 0.2079, Training Accuracy: 0.9382\n",
      "Epoch 4/30 - Validation loss: 0.2225, Validation Accuracy: 0.9335\n",
      "Epoch 5/30 - Training loss: 0.1778, Training Accuracy: 0.9471\n",
      "Epoch 5/30 - Validation loss: 0.1987, Validation Accuracy: 0.9415\n",
      "Epoch 6/30 - Training loss: 0.1533, Training Accuracy: 0.9539\n",
      "Epoch 6/30 - Validation loss: 0.1690, Validation Accuracy: 0.9503\n",
      "Epoch 7/30 - Training loss: 0.1348, Training Accuracy: 0.9596\n",
      "Epoch 7/30 - Validation loss: 0.1541, Validation Accuracy: 0.9527\n",
      "Epoch 8/30 - Training loss: 0.1189, Training Accuracy: 0.9648\n",
      "Epoch 8/30 - Validation loss: 0.1460, Validation Accuracy: 0.9563\n",
      "Epoch 9/30 - Training loss: 0.1076, Training Accuracy: 0.9676\n",
      "Epoch 9/30 - Validation loss: 0.1297, Validation Accuracy: 0.9600\n",
      "Epoch 10/30 - Training loss: 0.0965, Training Accuracy: 0.9711\n",
      "Epoch 10/30 - Validation loss: 0.1312, Validation Accuracy: 0.9587\n",
      "Epoch 11/30 - Training loss: 0.0881, Training Accuracy: 0.9731\n",
      "Epoch 11/30 - Validation loss: 0.1219, Validation Accuracy: 0.9607\n",
      "Epoch 12/30 - Training loss: 0.0809, Training Accuracy: 0.9756\n",
      "Epoch 12/30 - Validation loss: 0.1142, Validation Accuracy: 0.9640\n",
      "Epoch 13/30 - Training loss: 0.0740, Training Accuracy: 0.9779\n",
      "Epoch 13/30 - Validation loss: 0.1096, Validation Accuracy: 0.9650\n",
      "Epoch 14/30 - Training loss: 0.0684, Training Accuracy: 0.9800\n",
      "Epoch 14/30 - Validation loss: 0.1110, Validation Accuracy: 0.9655\n",
      "Epoch 15/30 - Training loss: 0.0642, Training Accuracy: 0.9804\n",
      "Epoch 15/30 - Validation loss: 0.1281, Validation Accuracy: 0.9600\n",
      "Epoch 16/30 - Training loss: 0.0596, Training Accuracy: 0.9815\n",
      "Epoch 16/30 - Validation loss: 0.1014, Validation Accuracy: 0.9680\n",
      "Epoch 17/30 - Training loss: 0.0539, Training Accuracy: 0.9837\n",
      "Epoch 17/30 - Validation loss: 0.1052, Validation Accuracy: 0.9668\n",
      "Epoch 18/30 - Training loss: 0.0503, Training Accuracy: 0.9853\n",
      "Epoch 18/30 - Validation loss: 0.1058, Validation Accuracy: 0.9673\n",
      "Epoch 19/30 - Training loss: 0.0470, Training Accuracy: 0.9854\n",
      "Epoch 19/30 - Validation loss: 0.0951, Validation Accuracy: 0.9697\n",
      "Epoch 20/30 - Training loss: 0.0439, Training Accuracy: 0.9870\n",
      "Epoch 20/30 - Validation loss: 0.0923, Validation Accuracy: 0.9713\n",
      "Epoch 21/30 - Training loss: 0.0414, Training Accuracy: 0.9880\n",
      "Epoch 21/30 - Validation loss: 0.0883, Validation Accuracy: 0.9730\n",
      "Epoch 22/30 - Training loss: 0.0388, Training Accuracy: 0.9885\n",
      "Epoch 22/30 - Validation loss: 0.0984, Validation Accuracy: 0.9695\n",
      "Epoch 23/30 - Training loss: 0.0363, Training Accuracy: 0.9890\n",
      "Epoch 23/30 - Validation loss: 0.0970, Validation Accuracy: 0.9715\n",
      "Epoch 24/30 - Training loss: 0.0328, Training Accuracy: 0.9904\n",
      "Epoch 24/30 - Validation loss: 0.0848, Validation Accuracy: 0.9733\n",
      "Epoch 25/30 - Training loss: 0.0317, Training Accuracy: 0.9906\n",
      "Epoch 25/30 - Validation loss: 0.0856, Validation Accuracy: 0.9717\n",
      "Epoch 26/30 - Training loss: 0.0284, Training Accuracy: 0.9919\n",
      "Epoch 26/30 - Validation loss: 0.0861, Validation Accuracy: 0.9747\n",
      "Epoch 27/30 - Training loss: 0.0274, Training Accuracy: 0.9921\n",
      "Epoch 27/30 - Validation loss: 0.1099, Validation Accuracy: 0.9663\n",
      "Epoch 28/30 - Training loss: 0.0257, Training Accuracy: 0.9926\n",
      "Epoch 28/30 - Validation loss: 0.0861, Validation Accuracy: 0.9730\n",
      "Epoch 29/30 - Training loss: 0.0234, Training Accuracy: 0.9933\n",
      "Epoch 29/30 - Validation loss: 0.0918, Validation Accuracy: 0.9738\n",
      "Epoch 30/30 - Training loss: 0.0216, Training Accuracy: 0.9939\n",
      "Epoch 30/30 - Validation loss: 0.0911, Validation Accuracy: 0.9735\n"
     ]
    }
   ],
   "source": [
    "# Training and Validation\n",
    "optimizer = optim.SGD(model.parameters(), lr=0.003, momentum=0.9)\n",
    "\n",
    "# Initialize lists to store metrics\n",
    "losses = []\n",
    "accuracies = []\n",
    "val_losses = []\n",
    "val_accuracies = []\n",
    "\n",
    "time0 = time()\n",
    "epochs = 30\n",
    "\n",
    "for e in range(epochs):\n",
    "    running_loss = 0\n",
    "    correct_count = 0\n",
    "\n",
    "    for images, labels in trainloader:\n",
    "        images = images.view(images.shape[0], -1)\n",
    "        optimizer.zero_grad()\n",
    "        output = model(images)\n",
    "        loss = criterion(output, labels)\n",
    "        loss.backward()\n",
    "        optimizer.step()\n",
    "        running_loss += loss.item()\n",
    "\n",
    "        # Calculate accuracy for this batch\n",
    "        _, predicted = torch.max(output.data, 1)\n",
    "        correct_count += (predicted == labels).sum().item()\n",
    "\n",
    "    # Calculate average loss and accuracy for this epoch\n",
    "    avg_loss = running_loss / len(trainloader)\n",
    "    accuracy = correct_count / len(trainloader.dataset)\n",
    "\n",
    "    # Append loss and accuracy to lists\n",
    "    losses.append(avg_loss)\n",
    "    accuracies.append(accuracy)\n",
    "\n",
    "    # Print epoch results for training\n",
    "    print(f\"Epoch {e+1}/{epochs} - Training loss: {avg_loss:.4f}, Training Accuracy: {accuracy:.4f}\")\n",
    "\n",
    "    # Validation loop\n",
    "    model.eval()  # Set the model to evaluation mode\n",
    "\n",
    "    val_loss = 0\n",
    "    val_correct_count = 0\n",
    "\n",
    "    with torch.no_grad():\n",
    "        for images, labels in valloader:\n",
    "            images = images.view(images.shape[0], -1)\n",
    "            output = model(images)\n",
    "            val_loss += criterion(output, labels).item()\n",
    "\n",
    "            # Calculate accuracy for this batch\n",
    "            _, predicted = torch.max(output.data, 1)\n",
    "            val_correct_count += (predicted == labels).sum().item()\n",
    "\n",
    "    # Calculate average validation loss and accuracy\n",
    "    avg_val_loss = val_loss / len(valloader)\n",
    "    val_accuracy = val_correct_count / len(valloader.dataset)\n",
    "\n",
    "    # Append validation metrics to lists\n",
    "    val_losses.append(avg_val_loss)\n",
    "    val_accuracies.append(val_accuracy)\n",
    "\n",
    "    # Print epoch results for validation\n",
    "    print(f\"Epoch {e+1}/{epochs} - Validation loss: {avg_val_loss:.4f}, Validation Accuracy: {val_accuracy:.4f}\")"
   ]
  },
  {
   "cell_type": "code",
   "execution_count": 9,
   "metadata": {},
   "outputs": [],
   "source": [
    "torch.save(model, './recog-30.pt')"
   ]
  },
  {
   "cell_type": "code",
   "execution_count": 10,
   "metadata": {},
   "outputs": [],
   "source": [
    "def view_classify(img, ps):\n",
    "    ''' Function for viewing an image and it's predicted classes.\n",
    "    '''\n",
    "    ps = ps.data.numpy().squeeze()\n",
    "\n",
    "    fig, (ax1, ax2) = plt.subplots(figsize=(6,9), ncols=2)\n",
    "    ax1.imshow(img.resize_(1, 28, 28).numpy().squeeze())\n",
    "    ax1.axis('off')\n",
    "    ax2.barh(np.arange(10), ps)\n",
    "    ax2.set_aspect(0.1)\n",
    "    ax2.set_yticks(np.arange(10))\n",
    "    ax2.set_yticklabels(np.arange(10))\n",
    "    ax2.set_title('Class Probability')\n",
    "    ax2.set_xlim(0, 1.1)\n",
    "    plt.tight_layout()"
   ]
  },
  {
   "cell_type": "code",
   "execution_count": 12,
   "metadata": {},
   "outputs": [
    {
     "data": {
      "text/plain": [
       "Sequential(\n",
       "  (0): Linear(in_features=784, out_features=128, bias=True)\n",
       "  (1): ReLU()\n",
       "  (2): Linear(in_features=128, out_features=64, bias=True)\n",
       "  (3): ReLU()\n",
       "  (4): Linear(in_features=64, out_features=10, bias=True)\n",
       "  (5): LogSoftmax(dim=1)\n",
       ")"
      ]
     },
     "execution_count": 12,
     "metadata": {},
     "output_type": "execute_result"
    }
   ],
   "source": [
    "model = torch.load(\"recog-30.pt\")\n",
    "model.eval()"
   ]
  },
  {
   "cell_type": "code",
   "execution_count": 14,
   "metadata": {},
   "outputs": [
    {
     "name": "stdout",
     "output_type": "stream",
     "text": [
      "Predicted Digit = 0\n"
     ]
    },
    {
     "data": {
      "image/png": "[encoded data removed]",
      "text/plain": [
       "<Figure size 600x900 with 2 Axes>"
      ]
     },
     "metadata": {},
     "output_type": "display_data"
    }
   ],
   "source": [
    "images, labels = next(iter(valloader))\n",
    "\n",
    "img = images[0].view(1, 784)\n",
    "with torch.no_grad():\n",
    "    logps = model(img)\n",
    "\n",
    "ps = torch.exp(logps)\n",
    "probab = list(ps.numpy()[0])\n",
    "print(\"Predicted Digit =\", probab.index(max(probab)))\n",
    "view_classify(img.view(1, 28, 28), ps)"
   ]
  }
 ],
 "metadata": {
  "kernelspec": {
   "display_name": "Python 3",
   "language": "python",
   "name": "python3"
  },
  "language_info": {
   "codemirror_mode": {
    "name": "ipython",
    "version": 3
   },
   "file_extension": ".py",
   "mimetype": "text/x-python",
   "name": "python",
   "nbconvert_exporter": "python",
   "pygments_lexer": "ipython3",
   "version": "3.11.5"
  }
 },
 "nbformat": 4,
 "nbformat_minor": 2
}
